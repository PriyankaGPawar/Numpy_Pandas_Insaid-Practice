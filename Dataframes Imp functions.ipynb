{
 "cells": [
  {
   "cell_type": "markdown",
   "metadata": {},
   "source": [
    "### DF = Dataframe"
   ]
  },
  {
   "cell_type": "code",
   "execution_count": 7,
   "metadata": {},
   "outputs": [
    {
     "data": {
      "text/html": [
       "<div>\n",
       "<style scoped>\n",
       "    .dataframe tbody tr th:only-of-type {\n",
       "        vertical-align: middle;\n",
       "    }\n",
       "\n",
       "    .dataframe tbody tr th {\n",
       "        vertical-align: top;\n",
       "    }\n",
       "\n",
       "    .dataframe thead th {\n",
       "        text-align: right;\n",
       "    }\n",
       "</style>\n",
       "<table border=\"1\" class=\"dataframe\">\n",
       "  <thead>\n",
       "    <tr style=\"text-align: right;\">\n",
       "      <th></th>\n",
       "      <th>Brand</th>\n",
       "      <th>Store ID</th>\n",
       "      <th>Store Name</th>\n",
       "      <th>Street Address</th>\n",
       "      <th>City</th>\n",
       "      <th>State</th>\n",
       "      <th>Postcode</th>\n",
       "      <th>Longitude</th>\n",
       "      <th>Latitude</th>\n",
       "      <th>Revenue</th>\n",
       "      <th>Profits</th>\n",
       "      <th>Selling Price</th>\n",
       "      <th>Cost Price</th>\n",
       "      <th>Gross Profit Margin</th>\n",
       "      <th>Number of Employees</th>\n",
       "      <th>Customers</th>\n",
       "      <th>Most Prefered Meal</th>\n",
       "      <th>Most Selling Item</th>\n",
       "    </tr>\n",
       "  </thead>\n",
       "  <tbody>\n",
       "    <tr>\n",
       "      <th>0</th>\n",
       "      <td>McDonald's</td>\n",
       "      <td>23149-228271</td>\n",
       "      <td>Banjara Hills</td>\n",
       "      <td>Lower Ground Floor, GVK One, Road Number 1, Ba...</td>\n",
       "      <td>Hyderabad</td>\n",
       "      <td>AP</td>\n",
       "      <td>500034</td>\n",
       "      <td>78.45</td>\n",
       "      <td>17.42</td>\n",
       "      <td>2.117344e+06</td>\n",
       "      <td>1.715839e+05</td>\n",
       "      <td>1.655165e+06</td>\n",
       "      <td>9.074330e+05</td>\n",
       "      <td>747732.417746</td>\n",
       "      <td>34.311197</td>\n",
       "      <td>3979.583117</td>\n",
       "      <td>McAloo Tikki Meal</td>\n",
       "      <td>McEgg Burger</td>\n",
       "    </tr>\n",
       "    <tr>\n",
       "      <th>1</th>\n",
       "      <td>McDonald's</td>\n",
       "      <td>23191-228548</td>\n",
       "      <td>Kukatpally</td>\n",
       "      <td>Upper Ground Floor, Forum Sujana Mall, Kukatpally</td>\n",
       "      <td>Hyderabad</td>\n",
       "      <td>AP</td>\n",
       "      <td>500072</td>\n",
       "      <td>78.39</td>\n",
       "      <td>17.48</td>\n",
       "      <td>1.058504e+06</td>\n",
       "      <td>5.464539e+04</td>\n",
       "      <td>8.959440e+05</td>\n",
       "      <td>4.536446e+05</td>\n",
       "      <td>442299.411904</td>\n",
       "      <td>25.487533</td>\n",
       "      <td>1156.010620</td>\n",
       "      <td>Chatpata Naan Aloo Meal</td>\n",
       "      <td>Chicken Maharaja Mac</td>\n",
       "    </tr>\n",
       "    <tr>\n",
       "      <th>2</th>\n",
       "      <td>McDonald's</td>\n",
       "      <td>23193-228546</td>\n",
       "      <td>Madhapur</td>\n",
       "      <td>Lower Ground Floor, Inorbit Mall, Madhapur</td>\n",
       "      <td>Hyderabad</td>\n",
       "      <td>AP</td>\n",
       "      <td>500081</td>\n",
       "      <td>78.39</td>\n",
       "      <td>17.43</td>\n",
       "      <td>4.505020e+06</td>\n",
       "      <td>6.638673e+05</td>\n",
       "      <td>2.864311e+06</td>\n",
       "      <td>1.930723e+06</td>\n",
       "      <td>933588.360542</td>\n",
       "      <td>54.208502</td>\n",
       "      <td>10346.720786</td>\n",
       "      <td>Chicken Kebab Meal</td>\n",
       "      <td>McChicken</td>\n",
       "    </tr>\n",
       "    <tr>\n",
       "      <th>3</th>\n",
       "      <td>McDonald's</td>\n",
       "      <td>23180-228545</td>\n",
       "      <td>Jubilee Hills</td>\n",
       "      <td>Ground Floor, Road No. 92, Near Apollo hospita...</td>\n",
       "      <td>Hyderabad</td>\n",
       "      <td>AP</td>\n",
       "      <td>500033</td>\n",
       "      <td>78.42</td>\n",
       "      <td>17.42</td>\n",
       "      <td>3.405530e+06</td>\n",
       "      <td>3.978350e+05</td>\n",
       "      <td>2.394072e+06</td>\n",
       "      <td>1.459513e+06</td>\n",
       "      <td>934559.026524</td>\n",
       "      <td>45.046083</td>\n",
       "      <td>7414.746544</td>\n",
       "      <td>McVeggie Meal</td>\n",
       "      <td>Filet-O-Fish</td>\n",
       "    </tr>\n",
       "    <tr>\n",
       "      <th>4</th>\n",
       "      <td>McDonald's</td>\n",
       "      <td>24457-238129</td>\n",
       "      <td>Hi-Tech City</td>\n",
       "      <td>Upper Ground Floor, Phoenix tower A, Opposite ...</td>\n",
       "      <td>Hyderabad</td>\n",
       "      <td>AP</td>\n",
       "      <td>500084</td>\n",
       "      <td>78.38</td>\n",
       "      <td>17.45</td>\n",
       "      <td>7.332713e+06</td>\n",
       "      <td>1.656524e+06</td>\n",
       "      <td>3.395053e+06</td>\n",
       "      <td>3.142591e+06</td>\n",
       "      <td>252461.315787</td>\n",
       "      <td>77.772607</td>\n",
       "      <td>17887.234107</td>\n",
       "      <td>McChicken Meal</td>\n",
       "      <td>Chicken McGrill</td>\n",
       "    </tr>\n",
       "  </tbody>\n",
       "</table>\n",
       "</div>"
      ],
      "text/plain": [
       "        Brand      Store ID     Store Name  \\\n",
       "0  McDonald's  23149-228271  Banjara Hills   \n",
       "1  McDonald's  23191-228548     Kukatpally   \n",
       "2  McDonald's  23193-228546       Madhapur   \n",
       "3  McDonald's  23180-228545  Jubilee Hills   \n",
       "4  McDonald's  24457-238129   Hi-Tech City   \n",
       "\n",
       "                                      Street Address       City State  \\\n",
       "0  Lower Ground Floor, GVK One, Road Number 1, Ba...  Hyderabad    AP   \n",
       "1  Upper Ground Floor, Forum Sujana Mall, Kukatpally  Hyderabad    AP   \n",
       "2         Lower Ground Floor, Inorbit Mall, Madhapur  Hyderabad    AP   \n",
       "3  Ground Floor, Road No. 92, Near Apollo hospita...  Hyderabad    AP   \n",
       "4  Upper Ground Floor, Phoenix tower A, Opposite ...  Hyderabad    AP   \n",
       "\n",
       "   Postcode  Longitude  Latitude       Revenue       Profits  Selling Price  \\\n",
       "0    500034      78.45     17.42  2.117344e+06  1.715839e+05   1.655165e+06   \n",
       "1    500072      78.39     17.48  1.058504e+06  5.464539e+04   8.959440e+05   \n",
       "2    500081      78.39     17.43  4.505020e+06  6.638673e+05   2.864311e+06   \n",
       "3    500033      78.42     17.42  3.405530e+06  3.978350e+05   2.394072e+06   \n",
       "4    500084      78.38     17.45  7.332713e+06  1.656524e+06   3.395053e+06   \n",
       "\n",
       "     Cost Price  Gross Profit Margin  Number of Employees     Customers  \\\n",
       "0  9.074330e+05        747732.417746            34.311197   3979.583117   \n",
       "1  4.536446e+05        442299.411904            25.487533   1156.010620   \n",
       "2  1.930723e+06        933588.360542            54.208502  10346.720786   \n",
       "3  1.459513e+06        934559.026524            45.046083   7414.746544   \n",
       "4  3.142591e+06        252461.315787            77.772607  17887.234107   \n",
       "\n",
       "        Most Prefered Meal     Most Selling Item  \n",
       "0        McAloo Tikki Meal          McEgg Burger  \n",
       "1  Chatpata Naan Aloo Meal  Chicken Maharaja Mac  \n",
       "2       Chicken Kebab Meal             McChicken  \n",
       "3            McVeggie Meal          Filet-O-Fish  \n",
       "4           McChicken Meal       Chicken McGrill  "
      ]
     },
     "execution_count": 7,
     "metadata": {},
     "output_type": "execute_result"
    }
   ],
   "source": [
    "## import data\n",
    "import pandas as pd\n",
    "df_mcd = pd.read_excel('https://github.com/insaid2018/Term-1/raw/master/Data/Casestudy/mcdonalds_india_menu.xlsx')\n",
    "df_mcd.head()\n",
    "\n",
    "\n",
    "df_store = pd.read_excel('https://github.com/insaid2018/Term-1/raw/master/Data/Casestudy/mcdonalds_store_data.xlsx')\n",
    "df_store.head()"
   ]
  },
  {
   "cell_type": "markdown",
   "metadata": {},
   "source": [
    "#### group by"
   ]
  },
  {
   "cell_type": "code",
   "execution_count": null,
   "metadata": {},
   "outputs": [],
   "source": [
    "import matplotlib.pyplot as plt\n",
    "df_mcd.groupby(['Category']).max()   ## apply group by function on the columns of DF \n",
    "df_mcd.groupby(['Category']).min()    #to get minimum values of All the columns for different \"Category\"\n",
    "\n",
    "df_mcd.groupby(['Category'])['Protein'].min()    #to get minimum values of \"Protein\" column for different \"Category\""
   ]
  },
  {
   "cell_type": "markdown",
   "metadata": {},
   "source": [
    "####  nunique()  - to get the number of unique records in a column"
   ]
  },
  {
   "cell_type": "code",
   "execution_count": null,
   "metadata": {},
   "outputs": [],
   "source": [
    "df_mcd['Category'].nunique()"
   ]
  },
  {
   "cell_type": "markdown",
   "metadata": {},
   "source": [
    "#### unique()  - to get the list of unique items from the dataframe"
   ]
  },
  {
   "cell_type": "code",
   "execution_count": null,
   "metadata": {},
   "outputs": [],
   "source": [
    "df_mcd['Category'].unique()"
   ]
  },
  {
   "cell_type": "markdown",
   "metadata": {},
   "source": [
    "#### value_counts()"
   ]
  },
  {
   "cell_type": "code",
   "execution_count": null,
   "metadata": {},
   "outputs": [],
   "source": [
    "df_mcd['Category'].value_counts()     # no of rows/records in that column"
   ]
  },
  {
   "cell_type": "markdown",
   "metadata": {},
   "source": [
    "#### retrieve the required columns only , and then sort the values of dataframe "
   ]
  },
  {
   "cell_type": "code",
   "execution_count": null,
   "metadata": {},
   "outputs": [],
   "source": [
    "## steps -- extract the 2 columns' data, sort it desc, then round to 2 decimal points, and display top 10 store details.\n",
    "   \n",
    "#df_store[11:15].head(3)\n",
    "df_store[['Store Name','Gross Profit Margin']].sort_values('Gross Profit Margin',ascending=False).round(2).head(10)"
   ]
  },
  {
   "cell_type": "markdown",
   "metadata": {},
   "source": [
    "#### working with rar files\n",
    "\n",
    "https://rarfile.readthedocs.io/en/latest/api.html#rarextfile-class\n",
    "https://codereview.stackexchange.com/questions/116843/extracting-rar-files-in-a-directory"
   ]
  },
  {
   "cell_type": "code",
   "execution_count": 8,
   "metadata": {},
   "outputs": [
    {
     "name": "stdout",
     "output_type": "stream",
     "text": [
      "Collecting rarfile\n",
      "  Downloading https://files.pythonhosted.org/packages/88/0b/107dde3f330d04668e126932a09002ac47348841453aa0391634381fa087/rarfile-3.1.tar.gz (121kB)\n",
      "Building wheels for collected packages: rarfile\n",
      "  Building wheel for rarfile (setup.py): started\n",
      "  Building wheel for rarfile (setup.py): finished with status 'done'\n",
      "  Stored in directory: C:\\Users\\DELL\\AppData\\Local\\pip\\Cache\\wheels\\23\\3c\\c8\\0215b6a5079492eff3be3f545ae0b0c4a66734c35c9e444eac\n",
      "Successfully built rarfile\n",
      "Installing collected packages: rarfile\n",
      "Successfully installed rarfile-3.1\n"
     ]
    }
   ],
   "source": [
    "!pip install rarfile\n"
   ]
  },
  {
   "cell_type": "code",
   "execution_count": 32,
   "metadata": {},
   "outputs": [
    {
     "name": "stdout",
     "output_type": "stream",
     "text": [
      "['NYC_Flight_Data.csv']\n",
      "\n",
      " <rarfile.RarFile object at 0x00000000089DDB00>\n"
     ]
    }
   ],
   "source": [
    "#import rarfile\n",
    "rf= rarfile.RarFile('C://Users//DELL//Downloads//NYC_Flight_Data.rar','r')\n",
    "print(rf.namelist())\n",
    "print('\\n',rf)\n",
    "\n",
    "#rf1= rarfile.RarFile.open('C://Users//DELL//Downloads//NYC_Flight_Data.rar','r')"
   ]
  },
  {
   "cell_type": "code",
   "execution_count": 85,
   "metadata": {},
   "outputs": [
    {
     "ename": "RarUnknownError",
     "evalue": "Unknown exit code [1]: b\"bsdtar: Error opening archive: Failed to open '--'\\r\\n\"",
     "output_type": "error",
     "traceback": [
      "\u001b[1;31m---------------------------------------------------------------------------\u001b[0m",
      "\u001b[1;31mRarUnknownError\u001b[0m                           Traceback (most recent call last)",
      "\u001b[1;32m<ipython-input-85-1dfe49f0a917>\u001b[0m in \u001b[0;36m<module>\u001b[1;34m\u001b[0m\n\u001b[0;32m      1\u001b[0m \u001b[1;31m#rf.extractall(path=\"C:\\Users\\DELL\\Downloads\\\")\u001b[0m\u001b[1;33m\u001b[0m\u001b[1;33m\u001b[0m\u001b[1;33m\u001b[0m\u001b[0m\n\u001b[0;32m      2\u001b[0m \u001b[1;33m\u001b[0m\u001b[0m\n\u001b[1;32m----> 3\u001b[1;33m \u001b[0mrf\u001b[0m\u001b[1;33m.\u001b[0m\u001b[0mextractall\u001b[0m\u001b[1;33m(\u001b[0m\u001b[1;33m)\u001b[0m\u001b[1;33m\u001b[0m\u001b[1;33m\u001b[0m\u001b[0m\n\u001b[0m",
      "\u001b[1;32mE:\\Anaconda3\\lib\\site-packages\\rarfile.py\u001b[0m in \u001b[0;36mextractall\u001b[1;34m(self, path, members, pwd)\u001b[0m\n\u001b[0;32m    839\u001b[0m                 \u001b[1;32melse\u001b[0m\u001b[1;33m:\u001b[0m\u001b[1;33m\u001b[0m\u001b[1;33m\u001b[0m\u001b[0m\n\u001b[0;32m    840\u001b[0m                     \u001b[0mfnlist\u001b[0m\u001b[1;33m.\u001b[0m\u001b[0mappend\u001b[0m\u001b[1;33m(\u001b[0m\u001b[0mm\u001b[0m\u001b[1;33m)\u001b[0m\u001b[1;33m\u001b[0m\u001b[1;33m\u001b[0m\u001b[0m\n\u001b[1;32m--> 841\u001b[1;33m         \u001b[0mself\u001b[0m\u001b[1;33m.\u001b[0m\u001b[0m_extract\u001b[0m\u001b[1;33m(\u001b[0m\u001b[0mfnlist\u001b[0m\u001b[1;33m,\u001b[0m \u001b[0mpath\u001b[0m\u001b[1;33m,\u001b[0m \u001b[0mpwd\u001b[0m\u001b[1;33m)\u001b[0m\u001b[1;33m\u001b[0m\u001b[1;33m\u001b[0m\u001b[0m\n\u001b[0m\u001b[0;32m    842\u001b[0m \u001b[1;33m\u001b[0m\u001b[0m\n\u001b[0;32m    843\u001b[0m     \u001b[1;32mdef\u001b[0m \u001b[0mtestrar\u001b[0m\u001b[1;33m(\u001b[0m\u001b[0mself\u001b[0m\u001b[1;33m)\u001b[0m\u001b[1;33m:\u001b[0m\u001b[1;33m\u001b[0m\u001b[1;33m\u001b[0m\u001b[0m\n",
      "\u001b[1;32mE:\\Anaconda3\\lib\\site-packages\\rarfile.py\u001b[0m in \u001b[0;36m_extract\u001b[1;34m(self, fnlist, path, psw)\u001b[0m\n\u001b[0;32m    908\u001b[0m             \u001b[0mp\u001b[0m \u001b[1;33m=\u001b[0m \u001b[0mcustom_popen\u001b[0m\u001b[1;33m(\u001b[0m\u001b[0mcmd\u001b[0m\u001b[1;33m)\u001b[0m\u001b[1;33m\u001b[0m\u001b[1;33m\u001b[0m\u001b[0m\n\u001b[0;32m    909\u001b[0m             \u001b[0moutput\u001b[0m \u001b[1;33m=\u001b[0m \u001b[0mp\u001b[0m\u001b[1;33m.\u001b[0m\u001b[0mcommunicate\u001b[0m\u001b[1;33m(\u001b[0m\u001b[1;33m)\u001b[0m\u001b[1;33m[\u001b[0m\u001b[1;36m0\u001b[0m\u001b[1;33m]\u001b[0m\u001b[1;33m\u001b[0m\u001b[1;33m\u001b[0m\u001b[0m\n\u001b[1;32m--> 910\u001b[1;33m             \u001b[0mcheck_returncode\u001b[0m\u001b[1;33m(\u001b[0m\u001b[0mp\u001b[0m\u001b[1;33m,\u001b[0m \u001b[0moutput\u001b[0m\u001b[1;33m)\u001b[0m\u001b[1;33m\u001b[0m\u001b[1;33m\u001b[0m\u001b[0m\n\u001b[0m\u001b[0;32m    911\u001b[0m \u001b[1;33m\u001b[0m\u001b[0m\n\u001b[0;32m    912\u001b[0m \u001b[1;31m#\u001b[0m\u001b[1;33m\u001b[0m\u001b[1;33m\u001b[0m\u001b[1;33m\u001b[0m\u001b[0m\n",
      "\u001b[1;32mE:\\Anaconda3\\lib\\site-packages\\rarfile.py\u001b[0m in \u001b[0;36mcheck_returncode\u001b[1;34m(p, out)\u001b[0m\n\u001b[0;32m   2954\u001b[0m         \u001b[0mmsg\u001b[0m \u001b[1;33m=\u001b[0m \u001b[1;34m\"%s [%d]\"\u001b[0m \u001b[1;33m%\u001b[0m \u001b[1;33m(\u001b[0m\u001b[0mexc\u001b[0m\u001b[1;33m.\u001b[0m\u001b[0m__doc__\u001b[0m\u001b[1;33m,\u001b[0m \u001b[0mp\u001b[0m\u001b[1;33m.\u001b[0m\u001b[0mreturncode\u001b[0m\u001b[1;33m)\u001b[0m\u001b[1;33m\u001b[0m\u001b[1;33m\u001b[0m\u001b[0m\n\u001b[0;32m   2955\u001b[0m \u001b[1;33m\u001b[0m\u001b[0m\n\u001b[1;32m-> 2956\u001b[1;33m     \u001b[1;32mraise\u001b[0m \u001b[0mexc\u001b[0m\u001b[1;33m(\u001b[0m\u001b[0mmsg\u001b[0m\u001b[1;33m)\u001b[0m\u001b[1;33m\u001b[0m\u001b[1;33m\u001b[0m\u001b[0m\n\u001b[0m\u001b[0;32m   2957\u001b[0m \u001b[1;33m\u001b[0m\u001b[0m\n\u001b[0;32m   2958\u001b[0m \u001b[1;32mdef\u001b[0m \u001b[0mhmac_sha256\u001b[0m\u001b[1;33m(\u001b[0m\u001b[0mkey\u001b[0m\u001b[1;33m,\u001b[0m \u001b[0mdata\u001b[0m\u001b[1;33m)\u001b[0m\u001b[1;33m:\u001b[0m\u001b[1;33m\u001b[0m\u001b[1;33m\u001b[0m\u001b[0m\n",
      "\u001b[1;31mRarUnknownError\u001b[0m: Unknown exit code [1]: b\"bsdtar: Error opening archive: Failed to open '--'\\r\\n\""
     ]
    }
   ],
   "source": [
    "#rf.extractall(path=\"C:\\Users\\DELL\\Downloads\\\")\n",
    "\n",
    "rf.extractall()"
   ]
  },
  {
   "cell_type": "code",
   "execution_count": 86,
   "metadata": {},
   "outputs": [
    {
     "name": "stdout",
     "output_type": "stream",
     "text": [
      "Requirement already satisfied: patool in e:\\anaconda3\\lib\\site-packages (1.12)\n"
     ]
    }
   ],
   "source": [
    "!pip install patool\n",
    "import patoolib as pt\n"
   ]
  },
  {
   "cell_type": "code",
   "execution_count": 88,
   "metadata": {},
   "outputs": [
    {
     "name": "stdout",
     "output_type": "stream",
     "text": [
      "patool: Extracting C:/Users/DELL/Downloads/NYC_Flight_Data.rar ...\n",
      "patool: running \"C:\\Program Files\\WinRAR\\rar.EXE\" x -- C:\\Users\\DELL\\Downloads\\NYC_Flight_Data.rar\n",
      "patool:     with cwd=C:/Users/DELL/Downloads/\n",
      "patool: ... C:/Users/DELL/Downloads/NYC_Flight_Data.rar extracted to `C:/Users/DELL/Downloads/'.\n"
     ]
    },
    {
     "data": {
      "text/plain": [
       "'C:/Users/DELL/Downloads/'"
      ]
     },
     "execution_count": 88,
     "metadata": {},
     "output_type": "execute_result"
    }
   ],
   "source": [
    "pt.extract_archive(r'C:/Users/DELL/Downloads/NYC_Flight_Data.rar',outdir=r\"C:/Users/DELL/Downloads/\")"
   ]
  },
  {
   "cell_type": "code",
   "execution_count": 91,
   "metadata": {},
   "outputs": [
    {
     "name": "stdout",
     "output_type": "stream",
     "text": [
      "patool: Extracting C:/Users/DELL/Downloads/NYC_Flight_Data.rar ...\n",
      "patool: running \"C:\\Program Files\\WinRAR\\rar.EXE\" x -- C:\\Users\\DELL\\Downloads\\NYC_Flight_Data.rar\n",
      "patool:     with cwd=C:/Users/DELL/Python-Advanced-Practice\n",
      "patool: ... C:/Users/DELL/Downloads/NYC_Flight_Data.rar extracted to `C:/Users/DELL/Python-Advanced-Practice'.\n"
     ]
    },
    {
     "data": {
      "text/plain": [
       "'C:/Users/DELL/Python-Advanced-Practice'"
      ]
     },
     "execution_count": 91,
     "metadata": {},
     "output_type": "execute_result"
    }
   ],
   "source": [
    "pt.extract_archive(r'C:/Users/DELL/Downloads/NYC_Flight_Data.rar', outdir=r'C:/Users/DELL/Python-Advanced-Practice')"
   ]
  },
  {
   "cell_type": "code",
   "execution_count": 48,
   "metadata": {},
   "outputs": [
    {
     "data": {
      "text/plain": [
       "<rarfile.PipeReader at 0x9860518>"
      ]
     },
     "execution_count": 48,
     "metadata": {},
     "output_type": "execute_result"
    }
   ],
   "source": [
    "#rf= rarfile.RarFile('https://github.com/insaid2018/Term-1/blob/master/Data/Projects/NYC_Flight_Data.rar')\n",
    "#nyc_f=rf.open('NYC_Flight_Data.csv')\n",
    "\n",
    "\n",
    "rf.open('NYC_Flight_Data.csv')\n"
   ]
  },
  {
   "cell_type": "code",
   "execution_count": 19,
   "metadata": {},
   "outputs": [
    {
     "ename": "AttributeError",
     "evalue": "module 'pandas' has no attribute 'to_DataFrame'",
     "output_type": "error",
     "traceback": [
      "\u001b[1;31m---------------------------------------------------------------------------\u001b[0m",
      "\u001b[1;31mAttributeError\u001b[0m                            Traceback (most recent call last)",
      "\u001b[1;32m<ipython-input-19-819d62e39cb6>\u001b[0m in \u001b[0;36m<module>\u001b[1;34m\u001b[0m\n\u001b[1;32m----> 1\u001b[1;33m \u001b[0mnyc_ext\u001b[0m \u001b[1;33m=\u001b[0m \u001b[0mpd\u001b[0m\u001b[1;33m.\u001b[0m\u001b[0mto_DataFrame\u001b[0m\u001b[1;33m(\u001b[0m\u001b[0mrf\u001b[0m\u001b[1;33m)\u001b[0m\u001b[1;33m\u001b[0m\u001b[1;33m\u001b[0m\u001b[0m\n\u001b[0m",
      "\u001b[1;31mAttributeError\u001b[0m: module 'pandas' has no attribute 'to_DataFrame'"
     ]
    }
   ],
   "source": []
  },
  {
   "cell_type": "code",
   "execution_count": null,
   "metadata": {},
   "outputs": [],
   "source": []
  }
 ],
 "metadata": {
  "kernelspec": {
   "display_name": "Python 3",
   "language": "python",
   "name": "python3"
  },
  "language_info": {
   "codemirror_mode": {
    "name": "ipython",
    "version": 3
   },
   "file_extension": ".py",
   "mimetype": "text/x-python",
   "name": "python",
   "nbconvert_exporter": "python",
   "pygments_lexer": "ipython3",
   "version": "3.7.3"
  }
 },
 "nbformat": 4,
 "nbformat_minor": 2
}
