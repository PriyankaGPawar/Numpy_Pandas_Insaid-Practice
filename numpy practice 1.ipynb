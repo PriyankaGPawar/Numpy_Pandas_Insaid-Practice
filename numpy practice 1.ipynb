{
 "cells": [
  {
   "cell_type": "code",
   "execution_count": 2,
   "metadata": {},
   "outputs": [],
   "source": [
    "import numpy as np\n",
    "import time"
   ]
  },
  {
   "cell_type": "code",
   "execution_count": 20,
   "metadata": {},
   "outputs": [
    {
     "name": "stdout",
     "output_type": "stream",
     "text": [
      "[      2       3       4 ...  999999 1000000 1000001]\n"
     ]
    }
   ],
   "source": [
    "time.time()\n",
    "\n",
    "def numpy_version():\n",
    "    myarr1= np.arange(1000000)\n",
    "    sumarr1=myarr1+2\n",
    "    print(sumarr1)\n",
    "\n",
    "numpy_version()"
   ]
  },
  {
   "cell_type": "code",
   "execution_count": 3,
   "metadata": {},
   "outputs": [
    {
     "name": "stdout",
     "output_type": "stream",
     "text": [
      "[[1, 2, 3, 4], [5, 6, 7, 8]]\n",
      "a2 : [[1 2 3 4]\n",
      " [5 6 7 8]]\n"
     ]
    }
   ],
   "source": [
    "list1=[[1,2,3,4],[5,6,7,8]]\n",
    "print(list1)\n",
    "a2=np.array(list1)\n",
    "print(\"a2 :\",a2)\n",
    "\n",
    "#a1[::2]"
   ]
  },
  {
   "cell_type": "code",
   "execution_count": 4,
   "metadata": {},
   "outputs": [
    {
     "name": "stdout",
     "output_type": "stream",
     "text": [
      "python time  1.6200926303863525\n",
      "Numpy time  0.005000114440917969\n",
      "Numpy in this example is 324.0111 times faster than python computing\n"
     ]
    }
   ],
   "source": [
    "import time\n",
    "import numpy as np\n",
    "\n",
    "size_of_vec = 1000000\n",
    "\n",
    "def pure_python_version():                                                # This function will return the time for python calculation\n",
    "    time_python = time.time()                                             # Start time before operation\n",
    "    my_list1 = range(size_of_vec)                                         # Creating a list with 1000000 values\n",
    "    my_list2 = range(size_of_vec)\n",
    "    sum_list = [my_list1[i] + my_list2[i] for i in range(len(my_list1))]  # Calculating the sum\n",
    "    return time.time() - time_python                                      # Return Current time - start time\n",
    "\n",
    "def numpy_version():                                                      # This function will return the time for numpy calculation\n",
    "    time_numpy = time.time()                                              # Start time before operation\n",
    "    my_arr1 = np.arange(size_of_vec)                                      # Creating a numpy array of 1000000 values\n",
    "    my_arr2 = np.arange(size_of_vec)\n",
    "    sum_array = my_arr1 + my_arr2                                         # Calculate the sum\n",
    "    return time.time() - time_numpy  \n",
    "\n",
    "python_time=pure_python_version()\n",
    "numpy_time=numpy_version()\n",
    "print(\"python time \",python_time)\n",
    "print(\"Numpy time \",numpy_time)\n",
    "print(\"Numpy in this example is {:0.4f} times faster than python computing\".format(python_time/numpy_time))"
   ]
  },
  {
   "cell_type": "markdown",
   "metadata": {},
   "source": [
    "  ### key feature of numpy is N dimensional array or ndarray"
   ]
  },
  {
   "cell_type": "code",
   "execution_count": 2,
   "metadata": {},
   "outputs": [
    {
     "name": "stdout",
     "output_type": "stream",
     "text": [
      "list : [[2, 3, 'f'], [3, 5, 6]]\n",
      "[['2' '3' 'f']\n",
      " ['3' '5' '6']]\n",
      "<class 'numpy.ndarray'>\n"
     ]
    }
   ],
   "source": [
    "import numpy as np\n",
    "list2 = [[2,3,'f'],[3,5,6]]\n",
    "print(\"list :\",list2)\n",
    "arr_2d=np.array(list2)\n",
    "print(arr_2d)\n",
    "print(type(arr_2d))\n"
   ]
  },
  {
   "cell_type": "markdown",
   "metadata": {},
   "source": [
    "### shape gives the array shape or matrix type such as MxN  \n",
    "### dim gives the dimensions of array"
   ]
  },
  {
   "cell_type": "code",
   "execution_count": 12,
   "metadata": {},
   "outputs": [
    {
     "name": "stdout",
     "output_type": "stream",
     "text": [
      "[['2' '3' 'f']\n",
      " ['3' '5' '6']]\n",
      "Shape of array : (2, 3)\n",
      "Dim of array: 2\n"
     ]
    }
   ],
   "source": [
    "print(arr_2d)\n",
    "\n",
    "print(\"Shape of array :\",np.shape(arr_2d))\n",
    "\n",
    "print(\"Dim of array:\",np.ndim(arr_2d))"
   ]
  },
  {
   "cell_type": "code",
   "execution_count": 17,
   "metadata": {},
   "outputs": [
    {
     "name": "stdout",
     "output_type": "stream",
     "text": [
      "list3 :[10, 24, 42, 90, 45] and its type <class 'list'>:\n",
      "[10 24 42 90 45] is 1 dimensional array\n",
      "dim of the array1 : 1\n",
      "shape of array1 : (5,)\n"
     ]
    }
   ],
   "source": [
    "list3 = [10,24,42,90,45]\n",
    "print(\"list3 :{} and its type {}:\".format(list3,type(list3)))\n",
    "\n",
    "arr_1d =np.array(list3)\n",
    "print(\"{} is {} dimensional array\".format(arr_1d, np.ndim(arr_1d)))\n",
    "\n",
    "print(\"dim of the array1 :\",np.ndim(arr_1d))\n",
    "print(\"shape of array1 :\",np.shape(arr_1d))"
   ]
  },
  {
   "cell_type": "markdown",
   "metadata": {},
   "source": [
    "__ndarrays are widely used for handling images. It is easier to use numpy arrays for image operations as compared to python lists.__"
   ]
  },
  {
   "cell_type": "code",
   "execution_count": 20,
   "metadata": {},
   "outputs": [
    {
     "name": "stdout",
     "output_type": "stream",
     "text": [
      "[1, 2]\n",
      "[[1, 2], [1, 2]]\n"
     ]
    }
   ],
   "source": [
    "print([1,2])           # 1d array\n",
    "print([[1,2],[1,2]])   # 2d array"
   ]
  },
  {
   "cell_type": "code",
   "execution_count": 28,
   "metadata": {
    "scrolled": false
   },
   "outputs": [
    {
     "name": "stdout",
     "output_type": "stream",
     "text": [
      "[[1, 2, 3], [4, 5, 6], [7, 8, 9], [11, 22, 33]]\n",
      "<class 'list'>\n",
      "\n",
      "[[ 1  2  3]\n",
      " [ 4  5  6]\n",
      " [ 7  8  9]\n",
      " [11 22 33]]\n",
      "<class 'numpy.ndarray'>\n"
     ]
    }
   ],
   "source": [
    "mat1=[[1,2,3],[4,5,6],[7,8,9],[11,22,33]]\n",
    "arr3 = np.array(mat1)\n",
    "print(\"This is type(arr3)\",mat1)\n",
    "print(type(mat1))\n",
    "print()\n",
    "print(arr3)\n",
    "print(type(arr3))"
   ]
  },
  {
   "cell_type": "code",
   "execution_count": 30,
   "metadata": {},
   "outputs": [
    {
     "data": {
      "text/plain": [
       "(5,)"
      ]
     },
     "execution_count": 30,
     "metadata": {},
     "output_type": "execute_result"
    }
   ],
   "source": [
    "arr_1d.shape"
   ]
  },
  {
   "cell_type": "code",
   "execution_count": 33,
   "metadata": {},
   "outputs": [
    {
     "data": {
      "text/plain": [
       "(2, 3)"
      ]
     },
     "execution_count": 33,
     "metadata": {},
     "output_type": "execute_result"
    }
   ],
   "source": [
    "arr_2d.ndim\n",
    "arr_2d.shape"
   ]
  },
  {
   "cell_type": "markdown",
   "metadata": {},
   "source": [
    "###  np.ndim( array-name-argument)   -- function \n",
    "### array-name.ndim    -- method\n",
    "\n",
    "### np.shape(array-name-argument)  -- function\n",
    "### array-name.shape   -- method"
   ]
  },
  {
   "cell_type": "code",
   "execution_count": 39,
   "metadata": {},
   "outputs": [
    {
     "name": "stdout",
     "output_type": "stream",
     "text": [
      "(4, 3)\n",
      "[10 24 42 90 45] is 1 dimensional array\n",
      "\n",
      "[['2' '3' 'f']\n",
      " ['3' '5' '6']] is 2 dimensional array\n"
     ]
    }
   ],
   "source": [
    "print(arr3.shape)\n",
    "\n",
    "print(\"{} is {} dimensional array\".format(arr_1d, arr_1d.ndim))\n",
    "print()\n",
    "print(\"{} is {} dimensional array\".format(arr_2d, np.ndim(arr_2d)))"
   ]
  },
  {
   "cell_type": "markdown",
   "metadata": {},
   "source": [
    "__To know more about the layout of the array, for example for information regarding type, size and byte order of the data, dtype function is used__"
   ]
  },
  {
   "cell_type": "code",
   "execution_count": 43,
   "metadata": {},
   "outputs": [
    {
     "data": {
      "text/plain": [
       "dtype('int32')"
      ]
     },
     "execution_count": 43,
     "metadata": {},
     "output_type": "execute_result"
    }
   ],
   "source": [
    "arr3.dtype"
   ]
  },
  {
   "cell_type": "markdown",
   "metadata": {},
   "source": [
    "### extracting different elements from array and list"
   ]
  },
  {
   "cell_type": "code",
   "execution_count": 3,
   "metadata": {},
   "outputs": [
    {
     "name": "stdout",
     "output_type": "stream",
     "text": [
      "[[1, 2, 3], [4, 5, 6], [7, 8, 9], [11, 22, 33]]\n",
      "\n",
      "[[ 1  2  3]\n",
      " [ 4  5  6]\n",
      " [ 7  8  9]\n",
      " [11 22 33]]\n"
     ]
    }
   ],
   "source": [
    "import numpy as np\n",
    "\n",
    "mat1=[[1,2,3],[4,5,6],[7,8,9],[11,22,33]]\n",
    "print(mat1)\n",
    "print()\n",
    "arr3 = np.array(mat1)\n",
    "print(arr3)"
   ]
  },
  {
   "cell_type": "markdown",
   "metadata": {},
   "source": [
    "### to extract values user syntax as \n",
    "### array [row index,column index]\n"
   ]
  },
  {
   "cell_type": "code",
   "execution_count": 22,
   "metadata": {},
   "outputs": [
    {
     "data": {
      "text/plain": [
       "array([ 2,  5,  8, 22])"
      ]
     },
     "execution_count": 22,
     "metadata": {},
     "output_type": "execute_result"
    }
   ],
   "source": [
    "# to get the elements from second column.\n",
    "arr3[::,1]        ## :: -> for printing all rows and 1-> for all data from second column"
   ]
  },
  {
   "cell_type": "code",
   "execution_count": 31,
   "metadata": {},
   "outputs": [
    {
     "data": {
      "text/plain": [
       "array([[ 1,  2],\n",
       "       [ 4,  5],\n",
       "       [ 7,  8],\n",
       "       [11, 22]])"
      ]
     },
     "execution_count": 31,
     "metadata": {},
     "output_type": "execute_result"
    }
   ],
   "source": [
    "# to get the particular elements\n",
    "arr3[::,:2]                 # :2 means range exclusive of 2"
   ]
  },
  {
   "cell_type": "markdown",
   "metadata": {},
   "source": [
    "### Array Initialization"
   ]
  },
  {
   "cell_type": "code",
   "execution_count": 33,
   "metadata": {},
   "outputs": [
    {
     "name": "stdout",
     "output_type": "stream",
     "text": [
      "[1 2 3 4 5 6 7 8 9]\n"
     ]
    }
   ],
   "source": [
    "ap=np.arange(1,10)            # this function acts like a range with higher limit exclusive\n",
    "print(ap)"
   ]
  },
  {
   "cell_type": "code",
   "execution_count": 34,
   "metadata": {},
   "outputs": [
    {
     "data": {
      "text/plain": [
       "array([ 3,  4,  5,  6,  7,  8,  9, 10, 11])"
      ]
     },
     "execution_count": 34,
     "metadata": {},
     "output_type": "execute_result"
    }
   ],
   "source": [
    "ap+2    # adding a number to matrix or array"
   ]
  },
  {
   "cell_type": "code",
   "execution_count": 35,
   "metadata": {},
   "outputs": [
    {
     "data": {
      "text/plain": [
       "array([ 2,  4,  6,  8, 10, 12, 14, 16, 18])"
      ]
     },
     "execution_count": 35,
     "metadata": {},
     "output_type": "execute_result"
    }
   ],
   "source": [
    "ap*2    # multiplying by a number"
   ]
  },
  {
   "cell_type": "code",
   "execution_count": 37,
   "metadata": {},
   "outputs": [
    {
     "data": {
      "text/plain": [
       "array([-1,  0,  1,  2,  3,  4,  5,  6,  7])"
      ]
     },
     "execution_count": 37,
     "metadata": {},
     "output_type": "execute_result"
    }
   ],
   "source": [
    "ap -2   # subtracting a number"
   ]
  },
  {
   "cell_type": "code",
   "execution_count": 38,
   "metadata": {},
   "outputs": [
    {
     "data": {
      "text/plain": [
       "array([0.5, 1. , 1.5, 2. , 2.5, 3. , 3.5, 4. , 4.5])"
      ]
     },
     "execution_count": 38,
     "metadata": {},
     "output_type": "execute_result"
    }
   ],
   "source": [
    "ap /2   # dividing by a number"
   ]
  },
  {
   "cell_type": "code",
   "execution_count": 40,
   "metadata": {},
   "outputs": [
    {
     "data": {
      "text/plain": [
       "array([1, 0, 1, 0, 1, 0, 1, 0, 1], dtype=int32)"
      ]
     },
     "execution_count": 40,
     "metadata": {},
     "output_type": "execute_result"
    }
   ],
   "source": [
    "ap % 2"
   ]
  },
  {
   "cell_type": "markdown",
   "metadata": {},
   "source": [
    "### if the array that you are creating doesnt have same number of rows from first list and columns from second list then it just creates an array of lists instead of matrix, like below.\n",
    "1x2 and 1x3 --> this gives the array of lists."
   ]
  },
  {
   "cell_type": "code",
   "execution_count": 50,
   "metadata": {},
   "outputs": [
    {
     "name": "stdout",
     "output_type": "stream",
     "text": [
      "[[1, 2], [3, 4, 5]]\n"
     ]
    }
   ],
   "source": [
    "list1 = [[1,2],[3,4,5]]\n",
    "print(list1)"
   ]
  },
  {
   "cell_type": "code",
   "execution_count": 51,
   "metadata": {},
   "outputs": [
    {
     "name": "stdout",
     "output_type": "stream",
     "text": [
      "[list([1, 2]) list([3, 4, 5])]\n"
     ]
    }
   ],
   "source": [
    "diff_arr= np.array(list1)\n",
    "print(diff_arr)"
   ]
  },
  {
   "cell_type": "code",
   "execution_count": 53,
   "metadata": {},
   "outputs": [
    {
     "name": "stdout",
     "output_type": "stream",
     "text": [
      "[[1 2 7]\n",
      " [3 4 5]]\n"
     ]
    }
   ],
   "source": [
    "list2 = [[1,2,7],[3,4,5]]\n",
    "print(np.array(list2))"
   ]
  },
  {
   "cell_type": "code",
   "execution_count": 59,
   "metadata": {},
   "outputs": [
    {
     "name": "stdout",
     "output_type": "stream",
     "text": [
      "[list([1, 2]) list([3, 4, 5]) list([7, 6, 4])]\n",
      "1\n",
      "(3,)\n"
     ]
    }
   ],
   "source": [
    "list1 = [[1,2],[3,4,5],[7,6,4]]\n",
    "mat3 = np.array(list1) \n",
    "print(mat3)\n",
    "print(np.ndim(mat3))\n",
    "print(np.shape(mat3))"
   ]
  },
  {
   "cell_type": "markdown",
   "metadata": {},
   "source": [
    "### arange (start, stop, step)"
   ]
  },
  {
   "cell_type": "code",
   "execution_count": 61,
   "metadata": {},
   "outputs": [
    {
     "data": {
      "text/plain": [
       "array([ 1,  4,  7, 10, 13, 16, 19])"
      ]
     },
     "execution_count": 61,
     "metadata": {},
     "output_type": "execute_result"
    }
   ],
   "source": [
    "np.arange(1,20,3)      # create array with step size of 3"
   ]
  },
  {
   "cell_type": "code",
   "execution_count": 64,
   "metadata": {},
   "outputs": [
    {
     "data": {
      "text/plain": [
       "array([0., 0., 0., 0., 0.])"
      ]
     },
     "execution_count": 64,
     "metadata": {},
     "output_type": "execute_result"
    }
   ],
   "source": [
    "np.zeros(5)            # create array with the 5 zeros"
   ]
  },
  {
   "cell_type": "code",
   "execution_count": 77,
   "metadata": {},
   "outputs": [
    {
     "name": "stdout",
     "output_type": "stream",
     "text": [
      "[[0. 0. 0.]\n",
      " [0. 0. 0.]]\n",
      "\n",
      "2\n"
     ]
    }
   ],
   "source": [
    "print(np.zeros((2,3)))       # create a matrix of 0 of 2x3 shape.\n",
    "print()\n",
    "print(np.zeros((2,3)).ndim)"
   ]
  },
  {
   "cell_type": "code",
   "execution_count": 97,
   "metadata": {},
   "outputs": [
    {
     "name": "stdout",
     "output_type": "stream",
     "text": [
      "[[1, 2, 3], [4, 5, 6], [7, 8, 9], [11, 22, 33]]\n",
      "<class 'list'>\n",
      "dim of list : 2\n",
      "<class 'numpy.ndarray'>\n",
      "dim of Array : 2\n"
     ]
    }
   ],
   "source": [
    "print(mat1)\n",
    "print(type(mat1))\n",
    "print(\"dim of list :\",np.ndim(mat1))\n",
    "\n",
    "arr4 = np.array(mat1)\n",
    "print(type(arr4))\n",
    "print(\"dim of Array :\",arr4.ndim)"
   ]
  },
  {
   "cell_type": "code",
   "execution_count": 127,
   "metadata": {},
   "outputs": [
    {
     "name": "stdout",
     "output_type": "stream",
     "text": [
      "Array1 \n",
      " [[1. 1. 1. 1.]\n",
      " [1. 1. 1. 1.]\n",
      " [1. 1. 1. 1.]\n",
      " [1. 1. 1. 1.]\n",
      " [1. 1. 1. 1.]\n",
      " [1. 1. 1. 1.]] \n",
      "\n",
      "Array2:\n",
      " [[1. 0. 0. 0.]\n",
      " [0. 1. 0. 0.]\n",
      " [0. 0. 1. 0.]\n",
      " [0. 0. 0. 1.]]\n"
     ]
    }
   ],
   "source": [
    "arr_1=np.ones((6,4))                # identity matrix\n",
    "print(\"Array1 \\n\",arr_1,'\\n')\n",
    "\n",
    "arr_2 = np.eye(4)                   # matrix with diagonal ones\n",
    "print(\"Array2:\\n\",arr_2)"
   ]
  },
  {
   "cell_type": "code",
   "execution_count": 29,
   "metadata": {},
   "outputs": [
    {
     "name": "stdout",
     "output_type": "stream",
     "text": [
      "[[[0. 0. 0. 0.]\n",
      "  [0. 0. 0. 0.]]\n",
      "\n",
      " [[0. 0. 0. 0.]\n",
      "  [0. 0. 0. 0.]]\n",
      "\n",
      " [[0. 0. 0. 0.]\n",
      "  [0. 0. 0. 0.]]]\n",
      "\n"
     ]
    }
   ],
   "source": [
    "import numpy as np\n",
    "arr1 = np.zeros([3,2,4])  # this will create \n",
    "arr2 = np.ones([2,5])    # Identity matrix     \n",
    "print(arr1)\n",
    "print()\n",
    "print(arr2)           # "
   ]
  },
  {
   "cell_type": "code",
   "execution_count": 30,
   "metadata": {},
   "outputs": [
    {
     "name": "stdout",
     "output_type": "stream",
     "text": [
      "[[1. 1. 1. 1. 1.]\n",
      " [1. 1. 1. 1. 1.]]\n"
     ]
    }
   ],
   "source": [
    "arr2 = np.ones([2,5])    # Identity matrix     \n",
    "print(arr2) "
   ]
  },
  {
   "cell_type": "markdown",
   "metadata": {},
   "source": [
    "### numpy creates everything as floats.  We can typecast it as int using .astype(int)"
   ]
  },
  {
   "cell_type": "code",
   "execution_count": 31,
   "metadata": {},
   "outputs": [
    {
     "name": "stdout",
     "output_type": "stream",
     "text": [
      "[[1 1 1]\n",
      " [1 1 1]]\n"
     ]
    }
   ],
   "source": [
    "arr4 = np.ones([2,3]).astype(int)\n",
    "print(arr4)"
   ]
  },
  {
   "cell_type": "markdown",
   "metadata": {},
   "source": [
    "### linspace  - used to create the equally spaced points. It created the items in the array by giving it same length.\n",
    "<br>used to create equally spaced items on the line.\n",
    "\n",
    "### linspace(start, end, no values to plot)"
   ]
  },
  {
   "cell_type": "code",
   "execution_count": 45,
   "metadata": {},
   "outputs": [
    {
     "data": {
      "text/plain": [
       "array([0.        , 0.21052632, 0.42105263, 0.63157895, 0.84210526,\n",
       "       1.05263158, 1.26315789, 1.47368421, 1.68421053, 1.89473684,\n",
       "       2.10526316, 2.31578947, 2.52631579, 2.73684211, 2.94736842,\n",
       "       3.15789474, 3.36842105, 3.57894737, 3.78947368, 4.        ])"
      ]
     },
     "execution_count": 45,
     "metadata": {},
     "output_type": "execute_result"
    }
   ],
   "source": [
    "np.linspace(0,4,20)          # to calculate the elements on the axis ->  range/(n-1)\n",
    "                            # range=4-0 , n=8 , one element=4/7\n",
    "                            # 20 values to plot."
   ]
  },
  {
   "cell_type": "code",
   "execution_count": 43,
   "metadata": {},
   "outputs": [
    {
     "data": {
      "text/plain": [
       "array([1.        , 1.14285714, 1.28571429, 1.42857143, 1.57142857,\n",
       "       1.71428571, 1.85714286, 2.        , 2.14285714, 2.28571429,\n",
       "       2.42857143, 2.57142857, 2.71428571, 2.85714286, 3.        ])"
      ]
     },
     "execution_count": 43,
     "metadata": {},
     "output_type": "execute_result"
    }
   ],
   "source": [
    "np.linspace(1,3,15)      # 15 values to plot , 2/14 = value of one point."
   ]
  },
  {
   "cell_type": "code",
   "execution_count": null,
   "metadata": {},
   "outputs": [],
   "source": []
  }
 ],
 "metadata": {
  "kernelspec": {
   "display_name": "Python 3",
   "language": "python",
   "name": "python3"
  },
  "language_info": {
   "codemirror_mode": {
    "name": "ipython",
    "version": 3
   },
   "file_extension": ".py",
   "mimetype": "text/x-python",
   "name": "python",
   "nbconvert_exporter": "python",
   "pygments_lexer": "ipython3",
   "version": "3.7.3"
  }
 },
 "nbformat": 4,
 "nbformat_minor": 2
}
