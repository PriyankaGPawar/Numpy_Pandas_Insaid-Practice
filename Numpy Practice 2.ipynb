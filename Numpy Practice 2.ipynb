{
 "cells": [
  {
   "cell_type": "code",
   "execution_count": 1,
   "metadata": {},
   "outputs": [],
   "source": [
    "import numpy as np"
   ]
  },
  {
   "cell_type": "markdown",
   "metadata": {},
   "source": [
    "__Generate random numbers using random.rand(x) function __"
   ]
  },
  {
   "cell_type": "code",
   "execution_count": 3,
   "metadata": {},
   "outputs": [
    {
     "data": {
      "text/plain": [
       "array([0.79962664, 0.79972695, 0.79446152, 0.86344839, 0.23455253])"
      ]
     },
     "execution_count": 3,
     "metadata": {},
     "output_type": "execute_result"
    }
   ],
   "source": [
    "np.random.rand(5)          # creates random values each time you run this."
   ]
  },
  {
   "cell_type": "markdown",
   "metadata": {},
   "source": [
    "__Create array of random numbers__"
   ]
  },
  {
   "cell_type": "code",
   "execution_count": 13,
   "metadata": {},
   "outputs": [
    {
     "name": "stdout",
     "output_type": "stream",
     "text": [
      "[[[0.31138963 0.5789306  0.61911646 0.58322936 0.37559996 0.58273323\n",
      "   0.9709497 ]\n",
      "  [0.36806235 0.72248019 0.25378134 0.58925087 0.94570838 0.08623311\n",
      "   0.07817231]\n",
      "  [0.48538011 0.42952962 0.92769154 0.6954335  0.11762222 0.27660742\n",
      "   0.29666807]]\n",
      "\n",
      " [[0.2324274  0.93291345 0.98488476 0.96573305 0.60497911 0.93550424\n",
      "   0.84767184]\n",
      "  [0.43928265 0.60382446 0.2877171  0.77514474 0.85731475 0.86937454\n",
      "   0.47313773]\n",
      "  [0.42135168 0.8538526  0.64226077 0.97816039 0.06498203 0.54476153\n",
      "   0.92602144]]\n",
      "\n",
      " [[0.22395577 0.10671133 0.70516036 0.49171704 0.24902472 0.19208639\n",
      "   0.36007057]\n",
      "  [0.11022205 0.9028522  0.23719259 0.0625775  0.67362553 0.66598578\n",
      "   0.24275463]\n",
      "  [0.0810383  0.85596747 0.46940063 0.69172714 0.62955571 0.6763691\n",
      "   0.3416287 ]]\n",
      "\n",
      " [[0.10448698 0.06713778 0.04977815 0.94791047 0.02017539 0.9668657\n",
      "   0.95891247]\n",
      "  [0.10043813 0.88510771 0.24607809 0.77779665 0.04954005 0.99272271\n",
      "   0.98732708]\n",
      "  [0.95481467 0.32133387 0.15707536 0.59964351 0.77309142 0.83438771\n",
      "   0.55101756]]]\n",
      "(4, 3, 7)\n",
      "3\n"
     ]
    }
   ],
   "source": [
    "x=np.random.rand(4,3,7)        # 4 rows of 3x7 matrix\n",
    "print(x)\n",
    "print(np.shape(x))\n",
    "print(np.ndim(x))"
   ]
  },
  {
   "cell_type": "code",
   "execution_count": 15,
   "metadata": {},
   "outputs": [
    {
     "data": {
      "text/plain": [
       "array([[-0.72854551, -0.80953736,  2.46269557],\n",
       "       [ 0.39480719, -0.52593111,  1.15657651]])"
      ]
     },
     "execution_count": 15,
     "metadata": {},
     "output_type": "execute_result"
    }
   ],
   "source": [
    "np.random.randn(2,3)    # standard normal distribution of random numbers."
   ]
  },
  {
   "cell_type": "code",
   "execution_count": 23,
   "metadata": {},
   "outputs": [
    {
     "data": {
      "text/plain": [
       "array([ 0.71745309, -1.18683982, -1.60790021, -0.09377127, -0.21329417,\n",
       "        0.184956  ,  0.88162253, -0.77181736])"
      ]
     },
     "execution_count": 23,
     "metadata": {},
     "output_type": "execute_result"
    }
   ],
   "source": [
    "### SND of random values , SND of random numbers is the Z-scores\n",
    "\n",
    "np.random.randn(8)    # SND has mean at 0 and SD=1"
   ]
  },
  {
   "cell_type": "code",
   "execution_count": 25,
   "metadata": {},
   "outputs": [],
   "source": [
    "np.random.rand(8)    "
   ]
  },
  {
   "cell_type": "markdown",
   "metadata": {},
   "source": [
    "### to reshape the values into some matrix use reshape function, only condition is that the values should be\n",
    "### equally divisible into the matrix form\n",
    "\n",
    "__for ex - random.rand(16)   - can be reshaped to 8x2 or 2x8 or 16x1 or 1x16 or 4x4 matrix only and not to 3x6 or anything else"
   ]
  },
  {
   "cell_type": "code",
   "execution_count": 31,
   "metadata": {},
   "outputs": [
    {
     "name": "stdout",
     "output_type": "stream",
     "text": [
      "[0.926828   0.00307884 0.70385992 0.02550004 0.65301234 0.10533625\n",
      " 0.50770928 0.16281041]\n",
      "\n"
     ]
    },
    {
     "ename": "ValueError",
     "evalue": "cannot reshape array of size 8 into shape (3,3)",
     "output_type": "error",
     "traceback": [
      "\u001b[1;31m---------------------------------------------------------------------------\u001b[0m",
      "\u001b[1;31mValueError\u001b[0m                                Traceback (most recent call last)",
      "\u001b[1;32m<ipython-input-31-c8922ee5ebaa>\u001b[0m in \u001b[0;36m<module>\u001b[1;34m\u001b[0m\n\u001b[0;32m      3\u001b[0m \u001b[0mprint\u001b[0m\u001b[1;33m(\u001b[0m\u001b[1;33m)\u001b[0m\u001b[1;33m\u001b[0m\u001b[1;33m\u001b[0m\u001b[0m\n\u001b[0;32m      4\u001b[0m \u001b[0mrand_arr\u001b[0m\u001b[1;33m.\u001b[0m\u001b[0mreshape\u001b[0m\u001b[1;33m(\u001b[0m\u001b[1;36m2\u001b[0m\u001b[1;33m,\u001b[0m\u001b[1;36m4\u001b[0m\u001b[1;33m)\u001b[0m     \u001b[1;31m## 2 rows and 4 columns\u001b[0m\u001b[1;33m\u001b[0m\u001b[1;33m\u001b[0m\u001b[0m\n\u001b[1;32m----> 5\u001b[1;33m \u001b[0mrand_arr\u001b[0m\u001b[1;33m.\u001b[0m\u001b[0mreshape\u001b[0m\u001b[1;33m(\u001b[0m\u001b[1;36m3\u001b[0m\u001b[1;33m,\u001b[0m\u001b[1;36m3\u001b[0m\u001b[1;33m)\u001b[0m     \u001b[1;31m## this wont work as 3x3 is 9 values and we have 16 values, so not allowed\u001b[0m\u001b[1;33m\u001b[0m\u001b[1;33m\u001b[0m\u001b[0m\n\u001b[0m",
      "\u001b[1;31mValueError\u001b[0m: cannot reshape array of size 8 into shape (3,3)"
     ]
    }
   ],
   "source": [
    "rand_arr= np.random.rand(8) \n",
    "print(rand_arr)\n",
    "print()\n",
    "rand_arr.reshape(2,4)     ## 2 rows and 4 columns\n",
    "# rand_arr.reshape(3,3)     ## this wont work as 3x3 is 9 values and we have 16 values, so not allowed"
   ]
  }
 ],
 "metadata": {
  "kernelspec": {
   "display_name": "Python 3",
   "language": "python",
   "name": "python3"
  },
  "language_info": {
   "codemirror_mode": {
    "name": "ipython",
    "version": 3
   },
   "file_extension": ".py",
   "mimetype": "text/x-python",
   "name": "python",
   "nbconvert_exporter": "python",
   "pygments_lexer": "ipython3",
   "version": "3.7.3"
  }
 },
 "nbformat": 4,
 "nbformat_minor": 2
}
