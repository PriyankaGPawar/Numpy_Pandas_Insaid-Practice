{
 "cells": [
  {
   "cell_type": "markdown",
   "metadata": {},
   "source": [
    "<img src = 'https://github.com/insaid2018/Term-1/blob/master/Images/INSAID_Full%20Logo.png?raw=true' width=\"240\" height=\"360\">\n",
    "# __Assignment: Numpy and Pandas__\n",
    "### Level: 1"
   ]
  },
  {
   "cell_type": "markdown",
   "metadata": {},
   "source": [
    "### 1. Create a null vector of size 7 but the third and last value as 2."
   ]
  },
  {
   "cell_type": "code",
   "execution_count": 1,
   "metadata": {},
   "outputs": [
    {
     "data": {
      "text/plain": [
       "array([0., 0., 2., 0., 0., 0., 2.])"
      ]
     },
     "execution_count": 1,
     "metadata": {},
     "output_type": "execute_result"
    }
   ],
   "source": [
    "import numpy as np\n",
    "def generate():\n",
    "    nv = np.zeros(7)\n",
    "    nv[6]=2\n",
    "    nv[2]=2\n",
    "    return nv # your variable \n",
    "generate()"
   ]
  },
  {
   "cell_type": "markdown",
   "metadata": {},
   "source": [
    "### 2. Create a vector of size 9 with values ranging from 0 to 2, both excluded."
   ]
  },
  {
   "cell_type": "code",
   "execution_count": 37,
   "metadata": {},
   "outputs": [
    {
     "name": "stdout",
     "output_type": "stream",
     "text": [
      "[0.  0.2 0.4 0.6 0.8 1.  1.2 1.4 1.6 1.8 2. ]\n"
     ]
    },
    {
     "data": {
      "text/plain": [
       "array([0.2, 0.4, 0.6, 0.8, 1. , 1.2, 1.4, 1.6, 1.8])"
      ]
     },
     "execution_count": 37,
     "metadata": {},
     "output_type": "execute_result"
    }
   ],
   "source": [
    "import numpy as np\n",
    "def generate():\n",
    "    vec = np.linspace(0,2,11)\n",
    "    print(vec)\n",
    "    return vec[1:10] # your variable\n",
    "generate() "
   ]
  },
  {
   "cell_type": "markdown",
   "metadata": {},
   "source": [
    "### 3. Convert the first character of each element in a series to uppercase? And return the new series."
   ]
  },
  {
   "cell_type": "code",
   "execution_count": 2,
   "metadata": {},
   "outputs": [
    {
     "data": {
      "text/plain": [
       "0              HOW\n",
       "1               TO\n",
       "2            LEARN\n",
       "3    DATA SCIENCE?\n",
       "dtype: object"
      ]
     },
     "execution_count": 2,
     "metadata": {},
     "output_type": "execute_result"
    }
   ],
   "source": [
    "import pandas as pd\n",
    "series = pd.Series(['how', 'to', 'learn', 'data science?'])\n",
    "def generate():\n",
    "    v= series.str.upper()\n",
    "    return v # your variable for new series\n",
    "generate() "
   ]
  },
  {
   "cell_type": "markdown",
   "metadata": {},
   "source": [
    "### 4. Given a 3*3 matrix named matrix_fab, From each element of this matrix subtract the mean of that row, name this matrix as matrix_sub. Divide each element of this matrix by twice of the largest element to get matrix_norm. Print it out."
   ]
  },
  {
   "cell_type": "code",
   "execution_count": 3,
   "metadata": {},
   "outputs": [
    {
     "name": "stdout",
     "output_type": "stream",
     "text": [
      "matrix_fab\n",
      " [[0 1 2]\n",
      " [3 4 5]\n",
      " [6 7 8]]\n",
      "matrix_mean [[1.]\n",
      " [4.]\n",
      " [7.]]\n",
      "matrix_sub [[-1.  0.  1.]\n",
      " [-1.  0.  1.]\n",
      " [-1.  0.  1.]]\n",
      "matrix_norm [[-0.5  0.   0.5]\n",
      " [-0.5  0.   0.5]\n",
      " [-0.5  0.   0.5]]\n"
     ]
    }
   ],
   "source": [
    "import numpy as np\n",
    "arr = np.arange(0,9)                                \n",
    "matrix_fab = arr.reshape(3,3)\n",
    "def generate():\n",
    "    print('matrix_fab\\n',matrix_fab)\n",
    "    #matrix_fab.mean(axis = 1, keepdims = True)\n",
    "    matrix_mean = np.mean(matrix_fab,axis=1,keepdims=True)   \n",
    "    matrix_sub =matrix_fab - matrix_mean\n",
    "    max= matrix_sub.max() *2\n",
    "    matrix_norm= matrix_sub/max\n",
    "    \n",
    "    print('matrix_mean',matrix_mean)\n",
    "    print('matrix_sub',matrix_sub)\n",
    "    print('matrix_norm',matrix_norm)\n",
    "    \n",
    "    return None\n",
    "generate()"
   ]
  },
  {
   "cell_type": "markdown",
   "metadata": {},
   "source": [
    "### 5. Create a random vector of size 12 , sort it in decreasing order, make 4*3 array using it.\n",
    "Hint: use reshape and sort function."
   ]
  },
  {
   "cell_type": "code",
   "execution_count": 16,
   "metadata": {},
   "outputs": [
    {
     "name": "stdout",
     "output_type": "stream",
     "text": [
      "[0.64373939 0.31557324 0.50320097 0.3061919  0.57783338 0.44696646\n",
      " 0.99487794 0.56823512 0.8678379  0.53368055 0.31896166 0.16434513]\n",
      "\n",
      "0\n",
      "[[0.16434513 0.3061919  0.31557324]\n",
      " [0.31896166 0.44696646 0.50320097]\n",
      " [0.53368055 0.56823512 0.57783338]\n",
      " [0.64373939 0.8678379  0.99487794]]\n"
     ]
    }
   ],
   "source": [
    "import numpy as np\n",
    "x = np.random.random(12)\n",
    "print(x)\n",
    "x.sort()\n",
    "print()\n",
    "print(0)\n",
    "y= x.reshape(4,3)\n",
    "print(y)"
   ]
  },
  {
   "cell_type": "code",
   "execution_count": 22,
   "metadata": {},
   "outputs": [
    {
     "name": "stdout",
     "output_type": "stream",
     "text": [
      "arr1\n",
      " [0.8910946  0.34234026 0.42714686 0.42380839 0.78644624 0.65834994\n",
      " 0.76795307 0.2673882  0.3452232  0.23834466 0.702609   0.2051149 ]\n",
      "arr1 sorted \n",
      " [0.2051149  0.23834466 0.2673882  0.34234026 0.3452232  0.42380839\n",
      " 0.42714686 0.65834994 0.702609   0.76795307 0.78644624 0.8910946 ]\n"
     ]
    },
    {
     "data": {
      "text/plain": [
       "array([[0.2051149 , 0.23834466, 0.2673882 ],\n",
       "       [0.34234026, 0.3452232 , 0.42380839],\n",
       "       [0.42714686, 0.65834994, 0.702609  ],\n",
       "       [0.76795307, 0.78644624, 0.8910946 ]])"
      ]
     },
     "execution_count": 22,
     "metadata": {},
     "output_type": "execute_result"
    }
   ],
   "source": [
    "import numpy as np\n",
    "def generate():\n",
    "    arr1= np.random.random(12)\n",
    "    print('arr1\\n',arr1)\n",
    "    arr2=np.sort(arr1,axis=0)\n",
    "    print('arr1 sorted \\n',arr2)\n",
    "    arr2 = arr2.reshape(4,3)\n",
    "    return arr2 #your variable\n",
    "generate()"
   ]
  },
  {
   "cell_type": "markdown",
   "metadata": {},
   "source": [
    "### 6. Below is Python dictionary data and Python list labels. Create a DataFrame df from this dictionary data which has index as labels. Select the rows where the age is missing, i.e. is NaN."
   ]
  },
  {
   "cell_type": "code",
   "execution_count": 74,
   "metadata": {},
   "outputs": [
    {
     "name": "stdout",
     "output_type": "stream",
     "text": [
      "df1\n",
      "        animal  age  visits priority\n",
      "labels                             \n",
      "a         cat  2.5       1      yes\n",
      "b         cat  3.0       3      yes\n",
      "c       snake  0.5       2       no\n",
      "d         dog  NaN       3      yes\n",
      "e         dog  5.0       2       no\n",
      "f         cat  2.0       3       no\n",
      "g       snake  4.5       1       no\n",
      "h         cat  NaN       1      yes\n",
      "i         dog  7.0       2       no\n",
      "j         dog  3.0       1       no\n",
      "\n",
      "df2 with only nulls \n",
      "        animal  age  visits priority\n",
      "labels                             \n",
      "a         cat  2.5       1      yes\n",
      "b         cat  3.0       3      yes\n",
      "c       snake  0.5       2       no\n",
      "e         dog  5.0       2       no\n",
      "f         cat  2.0       3       no\n",
      "g       snake  4.5       1       no\n",
      "i         dog  7.0       2       no\n",
      "j         dog  3.0       1       no\n",
      "\n",
      "df3 with only nulls \n",
      "        animal  age  visits priority\n",
      "labels                             \n",
      "d         dog  NaN       3      yes\n",
      "h         cat  NaN       1      yes\n"
     ]
    }
   ],
   "source": [
    "import numpy as np\n",
    "import pandas as pd\n",
    "data = {'animal': ['cat', 'cat', 'snake', 'dog', 'dog', 'cat', 'snake', 'cat', 'dog', 'dog'],\n",
    "        'age': [2.5, 3, 0.5, np.nan, 5, 2, 4.5, np.nan, 7, 3],\n",
    "        'visits': [1, 3, 2, 3, 2, 3, 1, 1, 2, 1],\n",
    "        'priority': ['yes', 'yes', 'no', 'yes', 'no', 'no', 'no', 'yes', 'no', 'no']}\n",
    "\n",
    "labels = ['a', 'b', 'c', 'd', 'e', 'f', 'g', 'h', 'i', 'j']\n",
    "import pandas as pd\n",
    "def generate():\n",
    "    df=pd.DataFrame(data)         # create dataframe\n",
    "    df['labels']=labels           # add column   \n",
    "    df1 = df.set_index('labels')  # set the newly added column as index\n",
    "    print('df1\\n',df1)\n",
    "    \n",
    "    df2= df1.dropna()                      # to drop rows with nulls/NaN\n",
    "    print('\\ndf2 with only nulls \\n',df2)\n",
    "    \n",
    "    df3=df1[pd.isnull(df1['age'])]          # to retain rows with nulls/NaN\n",
    "    print('\\ndf3 with only nulls \\n',df3)\n",
    "    return None                          # your variable\n",
    "generate()"
   ]
  },
  {
   "cell_type": "markdown",
   "metadata": {},
   "source": [
    "### 7. From the give dataframe df, in the 'animal' column change the 'dog' entries to 'Labrador', change the age in row 'd' to 2.7 and calculate the mean age (name it mean_age) for each different animal in df. Print df and return mean_age."
   ]
  },
  {
   "cell_type": "code",
   "execution_count": 139,
   "metadata": {},
   "outputs": [
    {
     "name": "stdout",
     "output_type": "stream",
     "text": [
      "df\n",
      "        animal  age  visits priority\n",
      "labels                             \n",
      "a         cat  2.5       1      yes\n",
      "b         cat  3.0       3      yes\n",
      "c       snake  0.5       2       no\n",
      "d         dog  NaN       3      yes\n",
      "e         dog  5.0       2       no\n",
      "f         cat  2.0       3       no\n",
      "g       snake  4.5       1       no\n",
      "h         cat  NaN       1      yes\n",
      "i         dog  7.0       2       no\n",
      "j         dog  3.0       1       no\n",
      "df1\n",
      "           animal  age  visits priority\n",
      "labels                                \n",
      "a            cat  2.5       1      yes\n",
      "b            cat  3.0       3      yes\n",
      "c          snake  0.5       2       no\n",
      "d       Labrador  NaN       3      yes\n",
      "e       Labrador  5.0       2       no\n",
      "f            cat  2.0       3       no\n",
      "g          snake  4.5       1       no\n",
      "h            cat  NaN       1      yes\n",
      "i       Labrador  7.0       2       no\n",
      "j       Labrador  3.0       1       no\n",
      "df--\n",
      "           animal  age  visits priority\n",
      "labels                                \n",
      "a            cat  2.5       1      yes\n",
      "b            cat  3.0       3      yes\n",
      "c          snake  0.5       2       no\n",
      "d       Labrador  NaN       3      yes\n",
      "e       Labrador  5.0       2       no\n",
      "f            cat  2.0       3       no\n",
      "g          snake  4.5       1       no\n",
      "h            cat  NaN       1      yes\n",
      "i       Labrador  7.0       2       no\n",
      "j       Labrador  3.0       1       no\n",
      "final df\n",
      " animal\n",
      "Labrador    4.425\n",
      "cat         2.500\n",
      "snake       2.500\n",
      "Name: age, dtype: float64\n"
     ]
    },
    {
     "data": {
      "text/plain": [
       "animal\n",
       "Labrador    2.0\n",
       "cat         2.0\n",
       "snake       1.5\n",
       "Name: visits, dtype: float64"
      ]
     },
     "execution_count": 139,
     "metadata": {},
     "output_type": "execute_result"
    }
   ],
   "source": [
    "import pandas as pd\n",
    "data = {'animal': ['cat', 'cat', 'snake', 'dog', 'dog', 'cat', 'snake', 'cat', 'dog', 'dog'],\n",
    "        'age': [2.5, 3, 0.5, np.nan, 5, 2, 4.5, np.nan, 7, 3],\n",
    "        'visits': [1, 3, 2, 3, 2, 3, 1, 1, 2, 1],\n",
    "        'priority': ['yes', 'yes', 'no', 'yes', 'no', 'no', 'no', 'yes', 'no', 'no']}\n",
    "\n",
    "labels = ['a', 'b', 'c', 'd', 'e', 'f', 'g', 'h', 'i', 'j']\n",
    "df =pd.DataFrame(data) \n",
    "df['labels']=labels\n",
    "#print(df)\n",
    "df.set_index('labels',inplace=True)\n",
    "print('df\\n',df)\n",
    "    \n",
    "df1 = df.replace('dog','Labrador')                                               # using replace function on whole df\n",
    "print('df1\\n',df1)\n",
    "\n",
    "df['animal'] = df.replace('dog','Labrador')                                      # using replace function on whole df\n",
    "print('df--\\n',df)\n",
    "\n",
    "df['animal1']= df['animal'].map(lambda x: x.replace('dog','Labrador'))           # using apply & lambda function\n",
    "df\n",
    "\n",
    "df['animal2']=df['animal'].apply(lambda x: x.replace('dog','Labrador'))          # using map & lambda function\n",
    "df\n",
    "\n",
    "## replacing age by 2.7 where index is 'd'\n",
    "df.loc['d','age']=2.7\n",
    "mean_age = df.groupby('animal')['age'].mean()\n",
    "print('final df\\n',mean_age)\n",
    "\n",
    "df.groupby('animal')['visits'].mean()"
   ]
  },
  {
   "cell_type": "markdown",
   "metadata": {},
   "source": [
    "### 8.  From the given dataframe get the positions where values of two columns match?"
   ]
  },
  {
   "cell_type": "code",
   "execution_count": 150,
   "metadata": {},
   "outputs": [
    {
     "name": "stdout",
     "output_type": "stream",
     "text": [
      "   fruit1  fruit2\n",
      "0  banana  orange\n",
      "1  orange  banana\n",
      "2   apple  banana\n",
      "3  banana   apple\n",
      "4  banana  orange\n",
      "5  orange   apple\n",
      "6  orange   apple\n",
      "7  orange  banana\n",
      "8  orange  orange\n",
      "9   apple   apple \n",
      "\n",
      "(array([8, 9], dtype=int64),)\n"
     ]
    }
   ],
   "source": [
    "import pandas as pd\n",
    "import numpy as np\n",
    "df = pd.DataFrame({'fruit1': np.random.choice(['apple', 'orange', 'banana'], 10),\n",
    "                    'fruit2': np.random.choice(['apple', 'orange', 'banana'], 10)})\n",
    "print(df,'\\n')\n",
    "def generate():\n",
    "    x= np.where(df.fruit1==df.fruit2)  # your code here\n",
    "    print(x)\n",
    "    return None\n",
    "generate()"
   ]
  },
  {
   "cell_type": "markdown",
   "metadata": {},
   "source": [
    "### 9. Find the positions of numbers that are multiples of 4 from a series? Print series and return position. Hint: use argwhere."
   ]
  },
  {
   "cell_type": "code",
   "execution_count": 39,
   "metadata": {},
   "outputs": [
    {
     "name": "stdout",
     "output_type": "stream",
     "text": [
      "0    8\n",
      "1    5\n",
      "2    6\n",
      "3    3\n",
      "4    8\n",
      "5    7\n",
      "6    2\n",
      "dtype: int32\n",
      "<class 'numpy.ndarray'> [[0]\n",
      " [2]\n",
      " [4]\n",
      " [6]]\n"
     ]
    }
   ],
   "source": [
    "import pandas as pd\n",
    "import numpy as np\n",
    "series = pd.Series(np.random.randint(1, 10, 7))\n",
    "print(series)\n",
    "def generate():\n",
    "    position= np.argwhere(series % 2==0)\n",
    "    print(type(position),position)\n",
    "    return # your variable\n",
    "generate()"
   ]
  },
  {
   "cell_type": "markdown",
   "metadata": {},
   "source": [
    "### 10. Stack two given series vertically and horizontally ? Print out both."
   ]
  },
  {
   "cell_type": "code",
   "execution_count": 51,
   "metadata": {},
   "outputs": [
    {
     "name": "stdout",
     "output_type": "stream",
     "text": [
      "0    0\n",
      "1    1\n",
      "2    2\n",
      "3    3\n",
      "4    4\n",
      "dtype: int64 0    a\n",
      "1    b\n",
      "2    c\n",
      "3    d\n",
      "4    e\n",
      "dtype: object\n",
      "[0 1 2 3 4 'a' 'b' 'c' 'd' 'e']\n",
      "   0  1\n",
      "0  0  a\n",
      "1  1  b\n",
      "2  2  c\n",
      "3  3  d\n",
      "4  4  e\n"
     ]
    }
   ],
   "source": [
    "import pandas as pd\n",
    "import numpy as np\n",
    "series1 = pd.Series(range(5))\n",
    "series2 = pd.Series(list('abcde'))\n",
    "print(series1, series2)\n",
    "def generate():\n",
    "    horh =np.append(series1,series2)\n",
    "    print(horh)\n",
    "    \n",
    "    vert = pd.concat([series1,series2],axis=1)\n",
    "    print(vert)\n",
    "    # print out both vertically and horizontally stacked series.\n",
    "    return None\n",
    "generate()"
   ]
  },
  {
   "cell_type": "code",
   "execution_count": null,
   "metadata": {},
   "outputs": [],
   "source": []
  }
 ],
 "metadata": {
  "kernelspec": {
   "display_name": "Python 3",
   "language": "python",
   "name": "python3"
  },
  "language_info": {
   "codemirror_mode": {
    "name": "ipython",
    "version": 3
   },
   "file_extension": ".py",
   "mimetype": "text/x-python",
   "name": "python",
   "nbconvert_exporter": "python",
   "pygments_lexer": "ipython3",
   "version": "3.7.3"
  }
 },
 "nbformat": 4,
 "nbformat_minor": 4
}
